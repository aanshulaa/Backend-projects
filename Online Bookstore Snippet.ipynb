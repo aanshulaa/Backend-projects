{
  "nbformat": 4,
  "nbformat_minor": 0,
  "metadata": {
    "colab": {
      "provenance": []
    },
    "kernelspec": {
      "name": "python3",
      "display_name": "Python 3"
    },
    "language_info": {
      "name": "python"
    }
  },
  "cells": [
    {
      "cell_type": "code",
      "execution_count": null,
      "metadata": {
        "id": "TE4Uw7-cxAaT"
      },
      "outputs": [],
      "source": [
        "class Book:\n",
        "    def __init__(self, title, author, price):\n",
        "        self.title = title\n",
        "        self.author = author\n",
        "        self.price = price\n",
        "\n",
        "class BookCatalog:\n",
        "    def __init__(self):\n",
        "        self.books = []\n",
        "\n",
        "    def add_book(self, title, author, price):\n",
        "        book = Book(title, author, price)\n",
        "        self.books.append(book)\n",
        "\n",
        "    def search_books(self, keyword):\n",
        "        results = []\n",
        "        for book in self.books:\n",
        "            if keyword.lower() in book.title.lower() or keyword.lower() in book.author.lower():\n",
        "                results.append(book)\n",
        "        return results\n",
        "\n",
        "# Usage example:\n",
        "catalog = BookCatalog()\n",
        "catalog.add_book(\"The Great Gatsby\", \"F. Scott Fitzgerald\", 10.99)\n",
        "catalog.add_book(\"To Kill a Mockingbird\", \"Harper Lee\", 9.99)\n",
        "\n",
        "try:\n",
        "    keyword = input(\"Enter a keyword to search for books: \")\n",
        "except KeyboardInterrupt:\n",
        "    print(\"\\nOperation interrupted.\")\n",
        "else:\n",
        "    results = catalog.search_books(keyword)\n",
        "\n",
        "    for book in results:\n",
        "        print(f\"Title: {book.title} | Author: {book.author} | Price: ${book.price}\")\n",
        "\n"
      ]
    }
  ]
}