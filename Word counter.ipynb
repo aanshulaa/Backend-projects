{
  "nbformat": 4,
  "nbformat_minor": 0,
  "metadata": {
    "colab": {
      "provenance": []
    },
    "kernelspec": {
      "name": "python3",
      "display_name": "Python 3"
    },
    "language_info": {
      "name": "python"
    }
  },
  "cells": [
    {
      "cell_type": "code",
      "execution_count": null,
      "metadata": {
        "id": "TE4Uw7-cxAaT"
      },
      "outputs": [],
      "source": [
        "def count_words(text):\n",
        "    words = text.split()\n",
        "    word_count = len(words)\n",
        "    return word_count\n",
        "\n",
        "input_text = input(\"Enter a sentence or paragraph: \")\n",
        "count = count_words(input_text)\n",
        "print(\"Word count:\", count)\n",
        "\n"
      ]
    },
    {
      "cell_type": "code",
      "source": [],
      "metadata": {
        "id": "kq1Nz4XgzfiC"
      },
      "execution_count": null,
      "outputs": []
    }
  ]
}