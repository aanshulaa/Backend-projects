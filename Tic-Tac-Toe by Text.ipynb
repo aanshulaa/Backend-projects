{
  "nbformat": 4,
  "nbformat_minor": 0,
  "metadata": {
    "colab": {
      "provenance": []
    },
    "kernelspec": {
      "name": "python3",
      "display_name": "Python 3"
    },
    "language_info": {
      "name": "python"
    }
  },
  "cells": [
    {
      "cell_type": "code",
      "execution_count": null,
      "metadata": {
        "colab": {
          "base_uri": "https://localhost:8080/"
        },
        "id": "TE4Uw7-cxAaT",
        "outputId": "88547426-2b0f-401c-91e7-ab17df54950a"
      },
      "outputs": [
        {
          "output_type": "stream",
          "name": "stdout",
          "text": [
            "  |   |  \n",
            "---------\n",
            "  |   |  \n",
            "---------\n",
            "  |   |  \n",
            "---------\n",
            "Player X's turn:\n",
            "Enter the row (0-2): 2\n",
            "Enter the column (0-2): 1\n",
            "  |   |  \n",
            "---------\n",
            "  |   |  \n",
            "---------\n",
            "  | X |  \n",
            "---------\n",
            "Player O's turn:\n",
            "Enter the row (0-2): 1\n",
            "Enter the column (0-2): 2\n",
            "  |   |  \n",
            "---------\n",
            "  |   | O\n",
            "---------\n",
            "  | X |  \n",
            "---------\n",
            "Player X's turn:\n"
          ]
        }
      ],
      "source": [
        "def print_board(board):\n",
        "    for row in board:\n",
        "        print(\" | \".join(row))\n",
        "        print(\"-\" * 9)\n",
        "\n",
        "def check_winner(board):\n",
        "    # Check rows\n",
        "    for row in board:\n",
        "        if row[0] == row[1] == row[2] != \" \":\n",
        "            return row[0]\n",
        "\n",
        "    # Check columns\n",
        "    for col in range(3):\n",
        "        if board[0][col] == board[1][col] == board[2][col] != \" \":\n",
        "            return board[0][col]\n",
        "\n",
        "    # Check diagonals\n",
        "    if board[0][0] == board[1][1] == board[2][2] != \" \":\n",
        "        return board[0][0]\n",
        "    if board[0][2] == board[1][1] == board[2][0] != \" \":\n",
        "        return board[0][2]\n",
        "\n",
        "    return None\n",
        "\n",
        "def play_game():\n",
        "    board = [[\" \" for _ in range(3)] for _ in range(3)]\n",
        "    current_player = \"X\"\n",
        "    while True:\n",
        "        print_board(board)\n",
        "\n",
        "        # Get the current player's move\n",
        "        print(\"Player\", current_player + \"'s turn:\")\n",
        "        row = int(input(\"Enter the row (0-2): \"))\n",
        "        col = int(input(\"Enter the column (0-2): \"))\n",
        "\n",
        "        # Make the move\n",
        "        if board[row][col] == \" \":\n",
        "            board[row][col] = current_player\n",
        "        else:\n",
        "            print(\"Invalid move! Try again.\")\n",
        "            continue\n",
        "\n",
        "        # Check for a winner or a tie\n",
        "        winner = check_winner(board)\n",
        "        if winner:\n",
        "            print_board(board)\n",
        "            print(\"Player\", winner, \"wins!\")\n",
        "            break\n",
        "        elif all(all(cell != \" \" for cell in row) for row in board):\n",
        "            print_board(board)\n",
        "            print(\"It's a tie!\")\n",
        "            break\n",
        "\n",
        "        # Switch to the other player\n",
        "        current_player = \"O\" if current_player == \"X\" else \"X\"\n",
        "\n",
        "# Start the game\n",
        "play_game()\n"
      ]
    },
    {
      "cell_type": "code",
      "source": [],
      "metadata": {
        "id": "kq1Nz4XgzfiC"
      },
      "execution_count": null,
      "outputs": []
    }
  ]
}