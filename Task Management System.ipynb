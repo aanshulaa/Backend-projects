{
  "nbformat": 4,
  "nbformat_minor": 0,
  "metadata": {
    "colab": {
      "provenance": []
    },
    "kernelspec": {
      "name": "python3",
      "display_name": "Python 3"
    },
    "language_info": {
      "name": "python"
    }
  },
  "cells": [
    {
      "cell_type": "code",
      "execution_count": null,
      "metadata": {
        "id": "TE4Uw7-cxAaT"
      },
      "outputs": [],
      "source": [
        "class Task:\n",
        "    def __init__(self, title, description, assigned_to):\n",
        "        self.title = title\n",
        "        self.description = description\n",
        "        self.assigned_to = assigned_to\n",
        "        self.status = \"Pending\"\n",
        "\n",
        "class TaskManager:\n",
        "    def __init__(self):\n",
        "        self.tasks = []\n",
        "\n",
        "    def create_task(self, title, description, assigned_to):\n",
        "        task = Task(title, description, assigned_to)\n",
        "        self.tasks.append(task)\n",
        "\n",
        "    def get_tasks(self):\n",
        "        return self.tasks\n",
        "\n",
        "# Usage example:\n",
        "task_manager = TaskManager()\n",
        "\n",
        "try:\n",
        "    title = input(\"Enter task title: \")\n",
        "    description = input(\"Enter task description: \")\n",
        "    assigned_to = input(\"Enter assignee: \")\n",
        "\n",
        "    task_manager.create_task(title, description, assigned_to)\n",
        "\n",
        "    tasks = task_manager.get_tasks()\n",
        "    for task in tasks:\n",
        "        print(f\"Title: {task.title} | Description: {task.description} | Assigned to: {task.assigned_to} | Status: {task.status}\")\n",
        "except KeyboardInterrupt:\n",
        "    print(\"\\nOperation interrupted by user.\")\n"
      ]
    }
  ]
}