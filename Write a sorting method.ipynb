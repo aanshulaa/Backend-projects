{
  "nbformat": 4,
  "nbformat_minor": 0,
  "metadata": {
    "colab": {
      "provenance": []
    },
    "kernelspec": {
      "name": "python3",
      "display_name": "Python 3"
    },
    "language_info": {
      "name": "python"
    }
  },
  "cells": [
    {
      "cell_type": "code",
      "execution_count": 4,
      "metadata": {
        "colab": {
          "base_uri": "https://localhost:8080/"
        },
        "id": "TE4Uw7-cxAaT",
        "outputId": "ff700749-537a-468f-dcb6-eafdb01159c3"
      },
      "outputs": [
        {
          "output_type": "stream",
          "name": "stdout",
          "text": [
            "Before sorting: [5, 2, 8, 12, 3]\n",
            "After sorting: [2, 3, 5, 8, 12]\n"
          ]
        }
      ],
      "source": [
        "def bubble_sort(arr):\n",
        "    n = len(arr)\n",
        "    for i in range(n):\n",
        "        # Last i elements are already in place\n",
        "        for j in range(0, n - i - 1):\n",
        "            # Swap if the element found is greater than the next element\n",
        "            if arr[j] > arr[j + 1]:\n",
        "                arr[j], arr[j + 1] = arr[j + 1], arr[j]\n",
        "\n",
        "# Example usage\n",
        "numbers = [5, 2, 8, 12, 3]\n",
        "print(\"Before sorting:\", numbers)\n",
        "bubble_sort(numbers)\n",
        "print(\"After sorting:\", numbers)\n"
      ]
    }
  ]
}