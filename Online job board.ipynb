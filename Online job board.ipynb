{
  "nbformat": 4,
  "nbformat_minor": 0,
  "metadata": {
    "colab": {
      "provenance": []
    },
    "kernelspec": {
      "name": "python3",
      "display_name": "Python 3"
    },
    "language_info": {
      "name": "python"
    }
  },
  "cells": [
    {
      "cell_type": "code",
      "execution_count": null,
      "metadata": {
        "id": "TE4Uw7-cxAaT"
      },
      "outputs": [],
      "source": [
        "class JobListing:\n",
        "    def __init__(self, title, company, location, description):\n",
        "        self.title = title\n",
        "        self.company = company\n",
        "        self.location = location\n",
        "        self.description = description\n",
        "\n",
        "class JobBoard:\n",
        "    def __init__(self):\n",
        "        self.job_listings = []\n",
        "\n",
        "    def create_job_listing(self, title, company, location, description):\n",
        "        job_listing = JobListing(title, company, location, description)\n",
        "        self.job_listings.append(job_listing)\n",
        "\n",
        "    def get_job_listings(self):\n",
        "        return self.job_listings\n",
        "\n",
        "# Usage example:\n",
        "job_board = JobBoard()\n",
        "\n",
        "title = input(\"Enter job title: \")\n",
        "company = input(\"Enter company name: \")\n",
        "location = input(\"Enter job location: \")\n",
        "description = input(\"Enter job description: \")\n",
        "\n",
        "job_board.create_job_listing(title, company, location, description)\n",
        "\n",
        "listings = job_board.get_job_listings()\n",
        "for listing in listings:\n",
        "    print(f\"Title: {listing.title} | Company: {listing.company} | Location: {listing.location} | Description: {listing.description}\")\n"
      ]
    }
  ]
}