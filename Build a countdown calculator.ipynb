{
  "nbformat": 4,
  "nbformat_minor": 0,
  "metadata": {
    "colab": {
      "provenance": []
    },
    "kernelspec": {
      "name": "python3",
      "display_name": "Python 3"
    },
    "language_info": {
      "name": "python"
    }
  },
  "cells": [
    {
      "cell_type": "code",
      "execution_count": null,
      "metadata": {
        "id": "TE4Uw7-cxAaT"
      },
      "outputs": [],
      "source": [
        "import datetime\n",
        "def calculate_countdown(target_date):\n",
        " current_date = datetime.datetime.now()\n",
        " time_left = target_date - current_date\n",
        " return time_left\n",
        "\n",
        "# Get the target date from the user\n",
        "target_date_str = input(\"Enter the target date (YYYY-MM-DD): \")\n",
        "target_date = datetime.datetime.strptime(target_date_str, \"%Y-%m-%d\")\n",
        "\n",
        "# Calculate the countdown\n",
        "countdown = calculate_countdown(target_date)\n",
        "\n",
        "# Display the countdown\n",
        "days = countdown.days\n",
        "hours, remainder = divmod(countdown.seconds, 3600)\n",
        "minutes, seconds = divmod(remainder, 60)\n",
        "print(\"Countdown:\")\n",
        "print(\"Days:\", days)\n",
        "print(\"Hours:\", hours)\n",
        "print(\"Minutes:\", minutes)\n",
        "print(\"Seconds:\", seconds)"
      ]
    }
  ]
}