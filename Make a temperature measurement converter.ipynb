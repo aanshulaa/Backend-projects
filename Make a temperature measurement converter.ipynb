{
  "nbformat": 4,
  "nbformat_minor": 0,
  "metadata": {
    "colab": {
      "provenance": []
    },
    "kernelspec": {
      "name": "python3",
      "display_name": "Python 3"
    },
    "language_info": {
      "name": "python"
    }
  },
  "cells": [
    {
      "cell_type": "code",
      "execution_count": 11,
      "metadata": {
        "colab": {
          "base_uri": "https://localhost:8080/"
        },
        "id": "TE4Uw7-cxAaT",
        "outputId": "e491b83c-8183-4928-f5ce-30e270cfc407"
      },
      "outputs": [
        {
          "output_type": "stream",
          "name": "stdout",
          "text": [
            "Enter the temperature: 43\n",
            "Enter the unit (C, F, K): c\n",
            "Temperature in Fahrenheit: 109.4\n",
            "Temperature in Kelvin: 316.15\n"
          ]
        }
      ],
      "source": [
        "def celsius_to_fahrenheit(celsius):\n",
        "    return (celsius * 9/5) + 32\n",
        "\n",
        "def fahrenheit_to_celsius(fahrenheit):\n",
        "    return (fahrenheit - 32) * 5/9\n",
        "\n",
        "def celsius_to_kelvin(celsius):\n",
        "    return celsius + 273.15\n",
        "\n",
        "def kelvin_to_celsius(kelvin):\n",
        "    return kelvin - 273.15\n",
        "\n",
        "def fahrenheit_to_kelvin(fahrenheit):\n",
        "    celsius = fahrenheit_to_celsius(fahrenheit)\n",
        "    return celsius_to_kelvin(celsius)\n",
        "\n",
        "def kelvin_to_fahrenheit(kelvin):\n",
        "    celsius = kelvin_to_celsius(kelvin)\n",
        "    return celsius_to_fahrenheit(celsius)\n",
        "\n",
        "def convert_temperature():\n",
        "    temperature = None\n",
        "    unit = None\n",
        "    try:\n",
        "        temperature = float(input(\"Enter the temperature: \"))\n",
        "        unit = input(\"Enter the unit (C, F, K): \").upper()\n",
        "    except KeyboardInterrupt:\n",
        "        print(\"\\nOperation interrupted.\")\n",
        "        return\n",
        "\n",
        "    if unit == \"C\":\n",
        "        fahrenheit = celsius_to_fahrenheit(temperature)\n",
        "        kelvin = celsius_to_kelvin(temperature)\n",
        "        print(\"Temperature in Fahrenheit:\", fahrenheit)\n",
        "        print(\"Temperature in Kelvin:\", kelvin)\n",
        "    elif unit == \"F\":\n",
        "        celsius = fahrenheit_to_celsius(temperature)\n",
        "        kelvin = fahrenheit_to_kelvin(temperature)\n",
        "        print(\"Temperature in Celsius:\", celsius)\n",
        "        print(\"Temperature in Kelvin:\", kelvin)\n",
        "    elif unit == \"K\":\n",
        "        celsius = kelvin_to_celsius(temperature)\n",
        "        fahrenheit = kelvin_to_fahrenheit(temperature)\n",
        "        print(\"Temperature in Celsius:\", celsius)\n",
        "        print(\"Temperature in Fahrenheit:\", fahrenheit)\n",
        "    else:\n",
        "        print(\"Invalid unit. Please enter C, F, or K.\")\n",
        "\n",
        "# Start the temperature conversion\n",
        "convert_temperature()\n"
      ]
    },
    {
      "cell_type": "code",
      "source": [],
      "metadata": {
        "id": "kq1Nz4XgzfiC"
      },
      "execution_count": null,
      "outputs": []
    }
  ]
}