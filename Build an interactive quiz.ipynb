{
  "nbformat": 4,
  "nbformat_minor": 0,
  "metadata": {
    "colab": {
      "provenance": []
    },
    "kernelspec": {
      "name": "python3",
      "display_name": "Python 3"
    },
    "language_info": {
      "name": "python"
    }
  },
  "cells": [
    {
      "cell_type": "code",
      "execution_count": 6,
      "metadata": {
        "colab": {
          "base_uri": "https://localhost:8080/"
        },
        "id": "TE4Uw7-cxAaT",
        "outputId": "f08c29f5-1066-4f45-c6f2-168fb8c848b7"
      },
      "outputs": [
        {
          "output_type": "stream",
          "name": "stdout",
          "text": [
            "What is the capital of France? paris\n",
            "What is the largest planet in our solar system? Jupiter\n",
            "Who painted the Mona Lisa? leonardo da vinci\n",
            "Quiz completed!\n",
            "Your score: 3 / 3\n"
          ]
        }
      ],
      "source": [
        "class Question:\n",
        "    def __init__(self, prompt, answer):\n",
        "        self.prompt = prompt\n",
        "        self.answer = answer\n",
        "\n",
        "def run_quiz(questions):\n",
        "    score = 0\n",
        "    total_questions = len(questions)\n",
        "    for question in questions:\n",
        "        user_answer = input(question.prompt + \" \")\n",
        "        if user_answer.lower() == question.answer.lower():\n",
        "            score += 1\n",
        "    print(\"Quiz completed!\")\n",
        "    print(\"Your score:\", score, \"/\", total_questions)\n",
        "\n",
        "\n",
        "# Create a list of questions\n",
        "questions = [\n",
        "    Question(\"What is the capital of France?\", \"Paris\"),\n",
        "    Question(\"What is the largest planet in our solar system?\", \"Jupiter\"),\n",
        "    Question(\"Who painted the Mona Lisa?\", \"Leonardo da Vinci\")\n",
        "]\n",
        "# Run the quiz\n",
        "run_quiz(questions)\n"
      ]
    },
    {
      "cell_type": "code",
      "source": [],
      "metadata": {
        "id": "kq1Nz4XgzfiC"
      },
      "execution_count": null,
      "outputs": []
    }
  ]
}